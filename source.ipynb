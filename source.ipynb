{
  "nbformat": 4,
  "nbformat_minor": 0,
  "metadata": {
    "colab": {
      "provenance": []
    },
    "kernelspec": {
      "name": "python3",
      "display_name": "Python 3"
    },
    "language_info": {
      "name": "python"
    }
  },
  "cells": [
    {
      "cell_type": "code",
      "execution_count": 1,
      "metadata": {
        "id": "mOzktvv7gedM"
      },
      "outputs": [],
      "source": [
        "#libraries\n",
        "import re\n",
        "import nltk\n",
        "from nltk.tokenize import word_tokenize, sent_tokenize\n",
        "from nltk.stem import PorterStemmer, WordNetLemmatizer\n",
        "import spacy\n",
        "from spacy.lang.en import English\n",
        "import string\n",
        "from nltk.corpus import stopwords\n",
        "from sklearn.feature_extraction.text import CountVectorizer\n"
      ]
    },
    {
      "cell_type": "markdown",
      "source": [
        "#preprocessing"
      ],
      "metadata": {
        "id": "B8v_9uP_msMa"
      }
    },
    {
      "cell_type": "code",
      "source": [
        "#downloding required lists\n",
        "nltk.download(\"punc\")\n",
        "nltk.download(\"stopwords\")\n",
        "nltk.download(\"wordnet\")\n",
        "nltk.download('punkt')"
      ],
      "metadata": {
        "colab": {
          "base_uri": "https://localhost:8080/"
        },
        "id": "Wbcklle6g6Qz",
        "outputId": "b339c1a9-2073-4e75-aa02-7142d95c529a"
      },
      "execution_count": 2,
      "outputs": [
        {
          "output_type": "stream",
          "name": "stderr",
          "text": [
            "[nltk_data] Error loading punc: Package 'punc' not found in index\n",
            "[nltk_data] Downloading package stopwords to /root/nltk_data...\n",
            "[nltk_data]   Unzipping corpora/stopwords.zip.\n",
            "[nltk_data] Downloading package wordnet to /root/nltk_data...\n",
            "[nltk_data] Downloading package punkt to /root/nltk_data...\n",
            "[nltk_data]   Unzipping tokenizers/punkt.zip.\n"
          ]
        },
        {
          "output_type": "execute_result",
          "data": {
            "text/plain": [
              "True"
            ]
          },
          "metadata": {},
          "execution_count": 2
        }
      ]
    },
    {
      "cell_type": "code",
      "source": [
        "nlp = English()"
      ],
      "metadata": {
        "id": "c18eKBd_hMdL"
      },
      "execution_count": 3,
      "outputs": []
    },
    {
      "cell_type": "code",
      "source": [
        "#input data\n",
        "text = \"Beans. I was trying to explain to somebody as we were flying in, that’s corn. That’s beans. And they were very impressed at my agricultural knowledge. Please give it up for Amaury once again for that outstanding introduction. I have a bunch of good friends here today, including somebody who I served with, who is one of the finest senators in the country, and we’re lucky to have him, your Senator, Dick Durbin is here. I also noticed, by the way, former Governor Edgar here, who I haven’t seen in a long time, and somehow he has not aged and I have. And it’s great to see you, Governor. I want to thank President Killeen and everybody at the U of I System for making it possible for me to be here today. And I am deeply honored at the Paul Douglas Award that is being given to me. He is somebody who set the path for so much outstanding public service here in Illinois. Now, I want to start by addressing the elephant in the room. I know people are still wondering why I didn’t speak at the commencement.\"\n",
        "sentences = [\"Beans.\",\n",
        "        \"I was trying to explain to somebody as we were flying in, that’s corn.\",\n",
        "         \"That’s beans.\",\n",
        "         \" And they were very impressed at my agricultural knowledge.\",\n",
        "          \"Please give it up for Amaury once again for that outstanding introduction.\",\n",
        "           \"I have a bunch of good friends here today, including somebody who I served with, who is one of the finest senators in the country, and we’re lucky to have him, your Senator, Dick Durbin is here.\",\n",
        "            \"I also noticed, by the way, former Governor Edgar here, who I haven’t seen in a long time, and somehow he has not aged and I have. And it’s great to see you, Governor.\",\n",
        "             \"I want to thank President Killeen and everybody at the U of I System for making it possible for me to be here today.\",\n",
        "              \"And I am deeply honored at the Paul Douglas Award that is being given to me.\",\n",
        "               \"He is somebody who set the path for so much outstanding public service here in Illinois.\",\n",
        "                \"Now, I want to start by addressing the elephant in the room.\",\n",
        "                 \"I know people are still wondering why I didn’t speak at the commencement.\"]"
      ],
      "metadata": {
        "id": "azVWVr8hhZDx"
      },
      "execution_count": 7,
      "outputs": []
    },
    {
      "cell_type": "code",
      "source": [
        "#lower & tokenization\n",
        "text_lower = text.lower()\n",
        "tokens = word_tokenize(text_lower)\n",
        "sentences = sent_tokenize(text_lower)"
      ],
      "metadata": {
        "id": "4eFBFbWqh6jz"
      },
      "execution_count": 8,
      "outputs": []
    },
    {
      "cell_type": "code",
      "source": [
        "#remove stop_wording\n",
        "stop_words = set(stopwords.words(\"english\"))\n",
        "tokens_filtered = [word for word in sentences if word not in stop_words]"
      ],
      "metadata": {
        "id": "BZxS82YaiYuA"
      },
      "execution_count": 9,
      "outputs": []
    },
    {
      "cell_type": "code",
      "source": [
        "# Punctuituation\n",
        "word_no_punc = [word for word in tokens_filtered if word not in string.punctuation]"
      ],
      "metadata": {
        "id": "EzDItRDQklXR"
      },
      "execution_count": 10,
      "outputs": []
    },
    {
      "cell_type": "code",
      "source": [
        "# Stemmer\n",
        "stemmer = PorterStemmer()\n",
        "token_stemmed = [stemmer.stem(word) for word in word_no_punc]\n"
      ],
      "metadata": {
        "id": "g_zBbxUMkpFW"
      },
      "execution_count": 11,
      "outputs": []
    },
    {
      "cell_type": "markdown",
      "source": [
        "#one_hot encoding"
      ],
      "metadata": {
        "id": "wGf-tiZRmzSB"
      }
    },
    {
      "cell_type": "code",
      "source": [
        "vectorize = CountVectorizer(binary=True)"
      ],
      "metadata": {
        "id": "MiO1JU6cm3az"
      },
      "execution_count": 12,
      "outputs": []
    },
    {
      "cell_type": "code",
      "source": [
        "x = vectorize.fit_transform(token_stemmed)\n",
        "x"
      ],
      "metadata": {
        "colab": {
          "base_uri": "https://localhost:8080/"
        },
        "id": "_jLanM6cm6Aw",
        "outputId": "a65c0026-7935-434f-bcfc-c0e910c3fbed"
      },
      "execution_count": 13,
      "outputs": [
        {
          "output_type": "execute_result",
          "data": {
            "text/plain": [
              "<13x113 sparse matrix of type '<class 'numpy.int64'>'\n",
              "\twith 164 stored elements in Compressed Sparse Row format>"
            ]
          },
          "metadata": {},
          "execution_count": 13
        }
      ]
    }
  ]
}